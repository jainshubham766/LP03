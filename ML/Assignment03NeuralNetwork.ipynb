{
 "cells": [
  {
   "cell_type": "code",
   "execution_count": 1,
   "metadata": {},
   "outputs": [],
   "source": [
    "import numpy as np\n",
    "import pandas as pd"
   ]
  },
  {
   "cell_type": "code",
   "execution_count": 2,
   "metadata": {},
   "outputs": [
    {
     "data": {
      "text/html": [
       "<div>\n",
       "<style scoped>\n",
       "    .dataframe tbody tr th:only-of-type {\n",
       "        vertical-align: middle;\n",
       "    }\n",
       "\n",
       "    .dataframe tbody tr th {\n",
       "        vertical-align: top;\n",
       "    }\n",
       "\n",
       "    .dataframe thead th {\n",
       "        text-align: right;\n",
       "    }\n",
       "</style>\n",
       "<table border=\"1\" class=\"dataframe\">\n",
       "  <thead>\n",
       "    <tr style=\"text-align: right;\">\n",
       "      <th></th>\n",
       "      <th>RowNumber</th>\n",
       "      <th>CustomerId</th>\n",
       "      <th>Surname</th>\n",
       "      <th>CreditScore</th>\n",
       "      <th>Geography</th>\n",
       "      <th>Gender</th>\n",
       "      <th>Age</th>\n",
       "      <th>Tenure</th>\n",
       "      <th>Balance</th>\n",
       "      <th>NumOfProducts</th>\n",
       "      <th>HasCrCard</th>\n",
       "      <th>IsActiveMember</th>\n",
       "      <th>EstimatedSalary</th>\n",
       "      <th>Exited</th>\n",
       "    </tr>\n",
       "  </thead>\n",
       "  <tbody>\n",
       "    <tr>\n",
       "      <th>0</th>\n",
       "      <td>1</td>\n",
       "      <td>15634602</td>\n",
       "      <td>Hargrave</td>\n",
       "      <td>619</td>\n",
       "      <td>France</td>\n",
       "      <td>Female</td>\n",
       "      <td>42</td>\n",
       "      <td>2</td>\n",
       "      <td>0.00</td>\n",
       "      <td>1</td>\n",
       "      <td>1</td>\n",
       "      <td>1</td>\n",
       "      <td>101348.88</td>\n",
       "      <td>1</td>\n",
       "    </tr>\n",
       "    <tr>\n",
       "      <th>1</th>\n",
       "      <td>2</td>\n",
       "      <td>15647311</td>\n",
       "      <td>Hill</td>\n",
       "      <td>608</td>\n",
       "      <td>Spain</td>\n",
       "      <td>Female</td>\n",
       "      <td>41</td>\n",
       "      <td>1</td>\n",
       "      <td>83807.86</td>\n",
       "      <td>1</td>\n",
       "      <td>0</td>\n",
       "      <td>1</td>\n",
       "      <td>112542.58</td>\n",
       "      <td>0</td>\n",
       "    </tr>\n",
       "    <tr>\n",
       "      <th>2</th>\n",
       "      <td>3</td>\n",
       "      <td>15619304</td>\n",
       "      <td>Onio</td>\n",
       "      <td>502</td>\n",
       "      <td>France</td>\n",
       "      <td>Female</td>\n",
       "      <td>42</td>\n",
       "      <td>8</td>\n",
       "      <td>159660.80</td>\n",
       "      <td>3</td>\n",
       "      <td>1</td>\n",
       "      <td>0</td>\n",
       "      <td>113931.57</td>\n",
       "      <td>1</td>\n",
       "    </tr>\n",
       "    <tr>\n",
       "      <th>3</th>\n",
       "      <td>4</td>\n",
       "      <td>15701354</td>\n",
       "      <td>Boni</td>\n",
       "      <td>699</td>\n",
       "      <td>France</td>\n",
       "      <td>Female</td>\n",
       "      <td>39</td>\n",
       "      <td>1</td>\n",
       "      <td>0.00</td>\n",
       "      <td>2</td>\n",
       "      <td>0</td>\n",
       "      <td>0</td>\n",
       "      <td>93826.63</td>\n",
       "      <td>0</td>\n",
       "    </tr>\n",
       "    <tr>\n",
       "      <th>4</th>\n",
       "      <td>5</td>\n",
       "      <td>15737888</td>\n",
       "      <td>Mitchell</td>\n",
       "      <td>850</td>\n",
       "      <td>Spain</td>\n",
       "      <td>Female</td>\n",
       "      <td>43</td>\n",
       "      <td>2</td>\n",
       "      <td>125510.82</td>\n",
       "      <td>1</td>\n",
       "      <td>1</td>\n",
       "      <td>1</td>\n",
       "      <td>79084.10</td>\n",
       "      <td>0</td>\n",
       "    </tr>\n",
       "  </tbody>\n",
       "</table>\n",
       "</div>"
      ],
      "text/plain": [
       "   RowNumber  CustomerId   Surname  CreditScore Geography  Gender  Age  \\\n",
       "0          1    15634602  Hargrave          619    France  Female   42   \n",
       "1          2    15647311      Hill          608     Spain  Female   41   \n",
       "2          3    15619304      Onio          502    France  Female   42   \n",
       "3          4    15701354      Boni          699    France  Female   39   \n",
       "4          5    15737888  Mitchell          850     Spain  Female   43   \n",
       "\n",
       "   Tenure    Balance  NumOfProducts  HasCrCard  IsActiveMember  \\\n",
       "0       2       0.00              1          1               1   \n",
       "1       1   83807.86              1          0               1   \n",
       "2       8  159660.80              3          1               0   \n",
       "3       1       0.00              2          0               0   \n",
       "4       2  125510.82              1          1               1   \n",
       "\n",
       "   EstimatedSalary  Exited  \n",
       "0        101348.88       1  \n",
       "1        112542.58       0  \n",
       "2        113931.57       1  \n",
       "3         93826.63       0  \n",
       "4         79084.10       0  "
      ]
     },
     "execution_count": 2,
     "metadata": {},
     "output_type": "execute_result"
    }
   ],
   "source": [
    "df = pd.read_csv('Churn_Modelling.csv')\n",
    "df.head()"
   ]
  },
  {
   "cell_type": "code",
   "execution_count": 3,
   "metadata": {},
   "outputs": [
    {
     "data": {
      "text/plain": [
       "(10000, 14)"
      ]
     },
     "execution_count": 3,
     "metadata": {},
     "output_type": "execute_result"
    }
   ],
   "source": [
    "df.shape"
   ]
  },
  {
   "cell_type": "code",
   "execution_count": 4,
   "metadata": {},
   "outputs": [
    {
     "data": {
      "text/plain": [
       "Index(['RowNumber', 'CustomerId', 'Surname', 'CreditScore', 'Geography',\n",
       "       'Gender', 'Age', 'Tenure', 'Balance', 'NumOfProducts', 'HasCrCard',\n",
       "       'IsActiveMember', 'EstimatedSalary', 'Exited'],\n",
       "      dtype='object')"
      ]
     },
     "execution_count": 4,
     "metadata": {},
     "output_type": "execute_result"
    }
   ],
   "source": [
    "df.columns"
   ]
  },
  {
   "cell_type": "code",
   "execution_count": 5,
   "metadata": {},
   "outputs": [
    {
     "data": {
      "text/plain": [
       "RowNumber            int64\n",
       "CustomerId           int64\n",
       "Surname             object\n",
       "CreditScore          int64\n",
       "Geography           object\n",
       "Gender              object\n",
       "Age                  int64\n",
       "Tenure               int64\n",
       "Balance            float64\n",
       "NumOfProducts        int64\n",
       "HasCrCard            int64\n",
       "IsActiveMember       int64\n",
       "EstimatedSalary    float64\n",
       "Exited               int64\n",
       "dtype: object"
      ]
     },
     "execution_count": 5,
     "metadata": {},
     "output_type": "execute_result"
    }
   ],
   "source": [
    "df.dtypes"
   ]
  },
  {
   "cell_type": "code",
   "execution_count": 6,
   "metadata": {},
   "outputs": [
    {
     "data": {
      "text/html": [
       "<div>\n",
       "<style scoped>\n",
       "    .dataframe tbody tr th:only-of-type {\n",
       "        vertical-align: middle;\n",
       "    }\n",
       "\n",
       "    .dataframe tbody tr th {\n",
       "        vertical-align: top;\n",
       "    }\n",
       "\n",
       "    .dataframe thead th {\n",
       "        text-align: right;\n",
       "    }\n",
       "</style>\n",
       "<table border=\"1\" class=\"dataframe\">\n",
       "  <thead>\n",
       "    <tr style=\"text-align: right;\">\n",
       "      <th></th>\n",
       "      <th>RowNumber</th>\n",
       "      <th>CustomerId</th>\n",
       "      <th>Surname</th>\n",
       "      <th>CreditScore</th>\n",
       "      <th>Geography</th>\n",
       "      <th>Gender</th>\n",
       "      <th>Age</th>\n",
       "      <th>Tenure</th>\n",
       "      <th>Balance</th>\n",
       "      <th>NumOfProducts</th>\n",
       "      <th>HasCrCard</th>\n",
       "      <th>IsActiveMember</th>\n",
       "      <th>EstimatedSalary</th>\n",
       "      <th>Exited</th>\n",
       "    </tr>\n",
       "  </thead>\n",
       "  <tbody>\n",
       "    <tr>\n",
       "      <th>0</th>\n",
       "      <td>1</td>\n",
       "      <td>15634602</td>\n",
       "      <td>Hargrave</td>\n",
       "      <td>619</td>\n",
       "      <td>France</td>\n",
       "      <td>Female</td>\n",
       "      <td>42</td>\n",
       "      <td>2</td>\n",
       "      <td>0.00</td>\n",
       "      <td>1</td>\n",
       "      <td>1</td>\n",
       "      <td>1</td>\n",
       "      <td>101348.88</td>\n",
       "      <td>1</td>\n",
       "    </tr>\n",
       "    <tr>\n",
       "      <th>1</th>\n",
       "      <td>2</td>\n",
       "      <td>15647311</td>\n",
       "      <td>Hill</td>\n",
       "      <td>608</td>\n",
       "      <td>Spain</td>\n",
       "      <td>Female</td>\n",
       "      <td>41</td>\n",
       "      <td>1</td>\n",
       "      <td>83807.86</td>\n",
       "      <td>1</td>\n",
       "      <td>0</td>\n",
       "      <td>1</td>\n",
       "      <td>112542.58</td>\n",
       "      <td>0</td>\n",
       "    </tr>\n",
       "    <tr>\n",
       "      <th>2</th>\n",
       "      <td>3</td>\n",
       "      <td>15619304</td>\n",
       "      <td>Onio</td>\n",
       "      <td>502</td>\n",
       "      <td>France</td>\n",
       "      <td>Female</td>\n",
       "      <td>42</td>\n",
       "      <td>8</td>\n",
       "      <td>159660.80</td>\n",
       "      <td>3</td>\n",
       "      <td>1</td>\n",
       "      <td>0</td>\n",
       "      <td>113931.57</td>\n",
       "      <td>1</td>\n",
       "    </tr>\n",
       "    <tr>\n",
       "      <th>3</th>\n",
       "      <td>4</td>\n",
       "      <td>15701354</td>\n",
       "      <td>Boni</td>\n",
       "      <td>699</td>\n",
       "      <td>France</td>\n",
       "      <td>Female</td>\n",
       "      <td>39</td>\n",
       "      <td>1</td>\n",
       "      <td>0.00</td>\n",
       "      <td>2</td>\n",
       "      <td>0</td>\n",
       "      <td>0</td>\n",
       "      <td>93826.63</td>\n",
       "      <td>0</td>\n",
       "    </tr>\n",
       "    <tr>\n",
       "      <th>4</th>\n",
       "      <td>5</td>\n",
       "      <td>15737888</td>\n",
       "      <td>Mitchell</td>\n",
       "      <td>850</td>\n",
       "      <td>Spain</td>\n",
       "      <td>Female</td>\n",
       "      <td>43</td>\n",
       "      <td>2</td>\n",
       "      <td>125510.82</td>\n",
       "      <td>1</td>\n",
       "      <td>1</td>\n",
       "      <td>1</td>\n",
       "      <td>79084.10</td>\n",
       "      <td>0</td>\n",
       "    </tr>\n",
       "  </tbody>\n",
       "</table>\n",
       "</div>"
      ],
      "text/plain": [
       "   RowNumber  CustomerId   Surname  CreditScore Geography  Gender  Age  \\\n",
       "0          1    15634602  Hargrave          619    France  Female   42   \n",
       "1          2    15647311      Hill          608     Spain  Female   41   \n",
       "2          3    15619304      Onio          502    France  Female   42   \n",
       "3          4    15701354      Boni          699    France  Female   39   \n",
       "4          5    15737888  Mitchell          850     Spain  Female   43   \n",
       "\n",
       "   Tenure    Balance  NumOfProducts  HasCrCard  IsActiveMember  \\\n",
       "0       2       0.00              1          1               1   \n",
       "1       1   83807.86              1          0               1   \n",
       "2       8  159660.80              3          1               0   \n",
       "3       1       0.00              2          0               0   \n",
       "4       2  125510.82              1          1               1   \n",
       "\n",
       "   EstimatedSalary  Exited  \n",
       "0        101348.88       1  \n",
       "1        112542.58       0  \n",
       "2        113931.57       1  \n",
       "3         93826.63       0  \n",
       "4         79084.10       0  "
      ]
     },
     "execution_count": 6,
     "metadata": {},
     "output_type": "execute_result"
    }
   ],
   "source": [
    "df.head()"
   ]
  },
  {
   "cell_type": "code",
   "execution_count": 7,
   "metadata": {},
   "outputs": [
    {
     "data": {
      "text/html": [
       "<div>\n",
       "<style scoped>\n",
       "    .dataframe tbody tr th:only-of-type {\n",
       "        vertical-align: middle;\n",
       "    }\n",
       "\n",
       "    .dataframe tbody tr th {\n",
       "        vertical-align: top;\n",
       "    }\n",
       "\n",
       "    .dataframe thead th {\n",
       "        text-align: right;\n",
       "    }\n",
       "</style>\n",
       "<table border=\"1\" class=\"dataframe\">\n",
       "  <thead>\n",
       "    <tr style=\"text-align: right;\">\n",
       "      <th></th>\n",
       "      <th>RowNumber</th>\n",
       "      <th>CustomerId</th>\n",
       "      <th>Surname</th>\n",
       "      <th>CreditScore</th>\n",
       "      <th>Geography</th>\n",
       "      <th>Gender</th>\n",
       "      <th>Age</th>\n",
       "      <th>Tenure</th>\n",
       "      <th>Balance</th>\n",
       "      <th>NumOfProducts</th>\n",
       "      <th>HasCrCard</th>\n",
       "      <th>IsActiveMember</th>\n",
       "      <th>EstimatedSalary</th>\n",
       "      <th>Exited</th>\n",
       "    </tr>\n",
       "  </thead>\n",
       "  <tbody>\n",
       "    <tr>\n",
       "      <th>9995</th>\n",
       "      <td>9996</td>\n",
       "      <td>15606229</td>\n",
       "      <td>Obijiaku</td>\n",
       "      <td>771</td>\n",
       "      <td>France</td>\n",
       "      <td>Male</td>\n",
       "      <td>39</td>\n",
       "      <td>5</td>\n",
       "      <td>0.00</td>\n",
       "      <td>2</td>\n",
       "      <td>1</td>\n",
       "      <td>0</td>\n",
       "      <td>96270.64</td>\n",
       "      <td>0</td>\n",
       "    </tr>\n",
       "    <tr>\n",
       "      <th>9996</th>\n",
       "      <td>9997</td>\n",
       "      <td>15569892</td>\n",
       "      <td>Johnstone</td>\n",
       "      <td>516</td>\n",
       "      <td>France</td>\n",
       "      <td>Male</td>\n",
       "      <td>35</td>\n",
       "      <td>10</td>\n",
       "      <td>57369.61</td>\n",
       "      <td>1</td>\n",
       "      <td>1</td>\n",
       "      <td>1</td>\n",
       "      <td>101699.77</td>\n",
       "      <td>0</td>\n",
       "    </tr>\n",
       "    <tr>\n",
       "      <th>9997</th>\n",
       "      <td>9998</td>\n",
       "      <td>15584532</td>\n",
       "      <td>Liu</td>\n",
       "      <td>709</td>\n",
       "      <td>France</td>\n",
       "      <td>Female</td>\n",
       "      <td>36</td>\n",
       "      <td>7</td>\n",
       "      <td>0.00</td>\n",
       "      <td>1</td>\n",
       "      <td>0</td>\n",
       "      <td>1</td>\n",
       "      <td>42085.58</td>\n",
       "      <td>1</td>\n",
       "    </tr>\n",
       "    <tr>\n",
       "      <th>9998</th>\n",
       "      <td>9999</td>\n",
       "      <td>15682355</td>\n",
       "      <td>Sabbatini</td>\n",
       "      <td>772</td>\n",
       "      <td>Germany</td>\n",
       "      <td>Male</td>\n",
       "      <td>42</td>\n",
       "      <td>3</td>\n",
       "      <td>75075.31</td>\n",
       "      <td>2</td>\n",
       "      <td>1</td>\n",
       "      <td>0</td>\n",
       "      <td>92888.52</td>\n",
       "      <td>1</td>\n",
       "    </tr>\n",
       "    <tr>\n",
       "      <th>9999</th>\n",
       "      <td>10000</td>\n",
       "      <td>15628319</td>\n",
       "      <td>Walker</td>\n",
       "      <td>792</td>\n",
       "      <td>France</td>\n",
       "      <td>Female</td>\n",
       "      <td>28</td>\n",
       "      <td>4</td>\n",
       "      <td>130142.79</td>\n",
       "      <td>1</td>\n",
       "      <td>1</td>\n",
       "      <td>0</td>\n",
       "      <td>38190.78</td>\n",
       "      <td>0</td>\n",
       "    </tr>\n",
       "  </tbody>\n",
       "</table>\n",
       "</div>"
      ],
      "text/plain": [
       "      RowNumber  CustomerId    Surname  CreditScore Geography  Gender  Age  \\\n",
       "9995       9996    15606229   Obijiaku          771    France    Male   39   \n",
       "9996       9997    15569892  Johnstone          516    France    Male   35   \n",
       "9997       9998    15584532        Liu          709    France  Female   36   \n",
       "9998       9999    15682355  Sabbatini          772   Germany    Male   42   \n",
       "9999      10000    15628319     Walker          792    France  Female   28   \n",
       "\n",
       "      Tenure    Balance  NumOfProducts  HasCrCard  IsActiveMember  \\\n",
       "9995       5       0.00              2          1               0   \n",
       "9996      10   57369.61              1          1               1   \n",
       "9997       7       0.00              1          0               1   \n",
       "9998       3   75075.31              2          1               0   \n",
       "9999       4  130142.79              1          1               0   \n",
       "\n",
       "      EstimatedSalary  Exited  \n",
       "9995         96270.64       0  \n",
       "9996        101699.77       0  \n",
       "9997         42085.58       1  \n",
       "9998         92888.52       1  \n",
       "9999         38190.78       0  "
      ]
     },
     "execution_count": 7,
     "metadata": {},
     "output_type": "execute_result"
    }
   ],
   "source": [
    "df.tail()"
   ]
  },
  {
   "cell_type": "code",
   "execution_count": 8,
   "metadata": {},
   "outputs": [],
   "source": [
    "import matplotlib.pyplot as plt\n",
    "import seaborn as sns\n",
    "%matplotlib inline"
   ]
  },
  {
   "cell_type": "code",
   "execution_count": 9,
   "metadata": {},
   "outputs": [
    {
     "data": {
      "image/png": "[encoded data removed]",
      "text/plain": [
       "<Figure size 576x576 with 1 Axes>"
      ]
     },
     "metadata": {
      "needs_background": "light"
     },
     "output_type": "display_data"
    }
   ],
   "source": [
    "plt.figure(figsize=(8,8))\n",
    "sns.countplot(x='Exited', data=df)\n",
    "plt.xlabel('0: Customers still with the bank, 1: Customers exited the bank')\n",
    "plt.ylabel('Count')\n",
    "plt.title('Bank Customers Churn Visualization')\n",
    "plt.show()"
   ]
  },
  {
   "cell_type": "code",
   "execution_count": 10,
   "metadata": {},
   "outputs": [
    {
     "data": {
      "text/plain": [
       "RowNumber          False\n",
       "CustomerId         False\n",
       "Surname            False\n",
       "CreditScore        False\n",
       "Geography          False\n",
       "Gender             False\n",
       "Age                False\n",
       "Tenure             False\n",
       "Balance            False\n",
       "NumOfProducts      False\n",
       "HasCrCard          False\n",
       "IsActiveMember     False\n",
       "EstimatedSalary    False\n",
       "Exited             False\n",
       "dtype: bool"
      ]
     },
     "execution_count": 10,
     "metadata": {},
     "output_type": "execute_result"
    }
   ],
   "source": [
    "df.isna().any()"
   ]
  },
  {
   "cell_type": "code",
   "execution_count": 11,
   "metadata": {},
   "outputs": [
    {
     "data": {
      "text/plain": [
       "Index(['CreditScore', 'Geography', 'Gender', 'Age', 'Tenure', 'Balance',\n",
       "       'NumOfProducts', 'HasCrCard', 'IsActiveMember', 'EstimatedSalary',\n",
       "       'Exited'],\n",
       "      dtype='object')"
      ]
     },
     "execution_count": 11,
     "metadata": {},
     "output_type": "execute_result"
    }
   ],
   "source": [
    "df.drop(['RowNumber', 'CustomerId', 'Surname'], axis=1, inplace=True)\n",
    "df.columns"
   ]
  },
  {
   "cell_type": "code",
   "execution_count": 12,
   "metadata": {},
   "outputs": [],
   "source": [
    "geography = pd.get_dummies(df['Geography'], drop_first=True)\n",
    "gender = pd.get_dummies(df['Gender'], drop_first=True)"
   ]
  },
  {
   "cell_type": "code",
   "execution_count": 13,
   "metadata": {},
   "outputs": [
    {
     "data": {
      "text/plain": [
       "Index(['CreditScore', 'Geography', 'Gender', 'Age', 'Tenure', 'Balance',\n",
       "       'NumOfProducts', 'HasCrCard', 'IsActiveMember', 'EstimatedSalary',\n",
       "       'Exited', 'Germany', 'Spain', 'Male'],\n",
       "      dtype='object')"
      ]
     },
     "execution_count": 13,
     "metadata": {},
     "output_type": "execute_result"
    }
   ],
   "source": [
    "df = pd.concat([df, geography, gender], axis=1)\n",
    "df.columns"
   ]
  },
  {
   "cell_type": "code",
   "execution_count": 14,
   "metadata": {},
   "outputs": [],
   "source": [
    "df.drop(['Geography', 'Gender'], axis=1, inplace=True)"
   ]
  },
  {
   "cell_type": "code",
   "execution_count": 15,
   "metadata": {},
   "outputs": [],
   "source": [
    "x = df.drop('Exited', axis=1)\n",
    "y = df['Exited']"
   ]
  },
  {
   "cell_type": "code",
   "execution_count": 16,
   "metadata": {},
   "outputs": [],
   "source": [
    "from sklearn.model_selection import train_test_split\n",
    "x_train, x_test, y_train, y_test = train_test_split(x, y, test_size=0.20, random_state=0)"
   ]
  },
  {
   "cell_type": "code",
   "execution_count": 17,
   "metadata": {},
   "outputs": [
    {
     "data": {
      "text/plain": [
       "(8000, 11)"
      ]
     },
     "execution_count": 17,
     "metadata": {},
     "output_type": "execute_result"
    }
   ],
   "source": [
    "x_train.shape"
   ]
  },
  {
   "cell_type": "code",
   "execution_count": 18,
   "metadata": {},
   "outputs": [
    {
     "data": {
      "text/plain": [
       "(2000, 11)"
      ]
     },
     "execution_count": 18,
     "metadata": {},
     "output_type": "execute_result"
    }
   ],
   "source": [
    "x_test.shape"
   ]
  },
  {
   "cell_type": "code",
   "execution_count": 19,
   "metadata": {},
   "outputs": [],
   "source": [
    "from sklearn.preprocessing import StandardScaler\n",
    "sc = StandardScaler()\n",
    "x_train = sc.fit_transform(x_train)\n",
    "x_test = sc.transform(x_test)"
   ]
  },
  {
   "cell_type": "code",
   "execution_count": 22,
   "metadata": {},
   "outputs": [],
   "source": [
    "import tensorflow.keras\n",
    "from tensorflow.keras.models import Sequential\n",
    "from tensorflow.keras.layers import Dense"
   ]
  },
  {
   "cell_type": "code",
   "execution_count": 23,
   "metadata": {},
   "outputs": [],
   "source": [
    "classifier = Sequential()"
   ]
  },
  {
   "cell_type": "code",
   "execution_count": 24,
   "metadata": {},
   "outputs": [],
   "source": [
    "classifier.add(Dense(units=6, kernel_initializer='he_uniform', activation='relu', input_dim=11))\n",
    "#units defines the size of the output from the dense layer\n",
    "#Initializers define the way to set the initial random weights of keras layers.\n",
    "#The Keyword arguments used for passing initializers to layers depends on the layer.\n",
    "#Usually it is simply kernel_initializer and bias_initializer\n"
   ]
  },
  {
   "cell_type": "code",
   "execution_count": 25,
   "metadata": {},
   "outputs": [],
   "source": [
    "classifier.add(Dense(units=6, kernel_initializer='he_uniform', activation='relu'))"
   ]
  },
  {
   "cell_type": "code",
   "execution_count": 26,
   "metadata": {},
   "outputs": [
    {
     "name": "stdout",
     "output_type": "stream",
     "text": [
      "WARNING:tensorflow:From E:\\Anaconda_Python\\lib\\site-packages\\tensorflow\\python\\ops\\init_ops.py:1251: calling VarianceScaling.__init__ (from tensorflow.python.ops.init_ops) with dtype is deprecated and will be removed in a future version.\n",
      "Instructions for updating:\n",
      "Call initializer instance with the dtype argument instead of passing it to the constructor\n"
     ]
    }
   ],
   "source": [
    "classifier.add(Dense(units=1, kernel_initializer='glorot_uniform', activation='sigmoid'))"
   ]
  },
  {
   "cell_type": "code",
   "execution_count": 27,
   "metadata": {},
   "outputs": [
    {
     "name": "stdout",
     "output_type": "stream",
     "text": [
      "WARNING:tensorflow:From E:\\Anaconda_Python\\lib\\site-packages\\tensorflow\\python\\ops\\nn_impl.py:180: add_dispatch_support.<locals>.wrapper (from tensorflow.python.ops.array_ops) is deprecated and will be removed in a future version.\n",
      "Instructions for updating:\n",
      "Use tf.where in 2.0, which has the same broadcast rule as np.where\n"
     ]
    }
   ],
   "source": [
    "classifier.compile(optimizer='adam', loss='binary_crossentropy', metrics=['accuracy'])\n"
   ]
  },
  {
   "cell_type": "code",
   "execution_count": 28,
   "metadata": {},
   "outputs": [
    {
     "name": "stdout",
     "output_type": "stream",
     "text": [
      "Model: \"sequential\"\n",
      "_________________________________________________________________\n",
      "Layer (type)                 Output Shape              Param #   \n",
      "=================================================================\n",
      "dense (Dense)                (None, 6)                 72        \n",
      "_________________________________________________________________\n",
      "dense_1 (Dense)              (None, 6)                 42        \n",
      "_________________________________________________________________\n",
      "dense_2 (Dense)              (None, 1)                 7         \n",
      "=================================================================\n",
      "Total params: 121\n",
      "Trainable params: 121\n",
      "Non-trainable params: 0\n",
      "_________________________________________________________________\n"
     ]
    }
   ],
   "source": [
    "classifier.summary()"
   ]
  },
  {
   "cell_type": "code",
   "execution_count": 29,
   "metadata": {},
   "outputs": [
    {
     "name": "stdout",
     "output_type": "stream",
     "text": [
      "Train on 5359 samples, validate on 2641 samples\n",
      "Epoch 1/100\n",
      "5359/5359 [==============================] - 3s 645us/sample - loss: 0.5408 - acc: 0.7662 - val_loss: 0.4717 - val_acc: 0.8008\n",
      "Epoch 2/100\n",
      "5359/5359 [==============================] - 3s 484us/sample - loss: 0.4464 - acc: 0.8127 - val_loss: 0.4357 - val_acc: 0.8133\n",
      "Epoch 3/100\n",
      "5359/5359 [==============================] - 3s 486us/sample - loss: 0.4191 - acc: 0.8197 - val_loss: 0.4229 - val_acc: 0.8164\n",
      "Epoch 4/100\n",
      "5359/5359 [==============================] - 3s 497us/sample - loss: 0.4059 - acc: 0.8237 - val_loss: 0.4138 - val_acc: 0.8205\n",
      "Epoch 5/100\n",
      "5359/5359 [==============================] - 3s 485us/sample - loss: 0.3956 - acc: 0.8330 - val_loss: 0.4052 - val_acc: 0.8262\n",
      "Epoch 6/100\n",
      "5359/5359 [==============================] - 3s 485us/sample - loss: 0.3862 - acc: 0.8416 - val_loss: 0.3971 - val_acc: 0.8289\n",
      "Epoch 7/100\n",
      "5359/5359 [==============================] - 3s 493us/sample - loss: 0.3765 - acc: 0.8433 - val_loss: 0.3872 - val_acc: 0.8345\n",
      "Epoch 8/100\n",
      "5359/5359 [==============================] - 3s 494us/sample - loss: 0.3668 - acc: 0.8457 - val_loss: 0.3801 - val_acc: 0.8368\n",
      "Epoch 9/100\n",
      "5359/5359 [==============================] - 3s 499us/sample - loss: 0.3587 - acc: 0.8503 - val_loss: 0.3739 - val_acc: 0.8398\n",
      "Epoch 10/100\n",
      "5359/5359 [==============================] - 3s 509us/sample - loss: 0.3522 - acc: 0.8507 - val_loss: 0.3710 - val_acc: 0.8417\n",
      "Epoch 11/100\n",
      "5359/5359 [==============================] - 3s 493us/sample - loss: 0.3484 - acc: 0.8545 - val_loss: 0.3688 - val_acc: 0.8425\n",
      "Epoch 12/100\n",
      "5359/5359 [==============================] - 3s 495us/sample - loss: 0.3456 - acc: 0.8543 - val_loss: 0.3669 - val_acc: 0.8421\n",
      "Epoch 13/100\n",
      "5359/5359 [==============================] - 3s 491us/sample - loss: 0.3433 - acc: 0.8593 - val_loss: 0.3642 - val_acc: 0.8478\n",
      "Epoch 14/100\n",
      "5359/5359 [==============================] - 3s 493us/sample - loss: 0.3410 - acc: 0.8576 - val_loss: 0.3625 - val_acc: 0.8482\n",
      "Epoch 15/100\n",
      "5359/5359 [==============================] - 3s 497us/sample - loss: 0.3395 - acc: 0.8586 - val_loss: 0.3611 - val_acc: 0.8474\n",
      "Epoch 16/100\n",
      "5359/5359 [==============================] - 3s 500us/sample - loss: 0.3384 - acc: 0.8600 - val_loss: 0.3617 - val_acc: 0.8508\n",
      "Epoch 17/100\n",
      "5359/5359 [==============================] - 3s 502us/sample - loss: 0.3373 - acc: 0.8580 - val_loss: 0.3614 - val_acc: 0.8504\n",
      "Epoch 18/100\n",
      "5359/5359 [==============================] - 3s 505us/sample - loss: 0.3358 - acc: 0.8627 - val_loss: 0.3601 - val_acc: 0.8504\n",
      "Epoch 19/100\n",
      "5359/5359 [==============================] - 3s 502us/sample - loss: 0.3354 - acc: 0.8614 - val_loss: 0.3588 - val_acc: 0.8508\n",
      "Epoch 20/100\n",
      "5359/5359 [==============================] - 3s 503us/sample - loss: 0.3340 - acc: 0.8623 - val_loss: 0.3609 - val_acc: 0.8512\n",
      "Epoch 21/100\n",
      "5359/5359 [==============================] - 2s 466us/sample - loss: 0.3349 - acc: 0.8617 - val_loss: 0.3573 - val_acc: 0.8531\n",
      "Epoch 22/100\n",
      "5359/5359 [==============================] - 3s 490us/sample - loss: 0.3341 - acc: 0.8602 - val_loss: 0.3577 - val_acc: 0.8527\n",
      "Epoch 23/100\n",
      "5359/5359 [==============================] - 3s 498us/sample - loss: 0.3333 - acc: 0.8632 - val_loss: 0.3563 - val_acc: 0.8501\n",
      "Epoch 24/100\n",
      "5359/5359 [==============================] - 3s 482us/sample - loss: 0.3331 - acc: 0.8617 - val_loss: 0.3562 - val_acc: 0.8527\n",
      "Epoch 25/100\n",
      "5359/5359 [==============================] - 3s 505us/sample - loss: 0.3321 - acc: 0.8619 - val_loss: 0.3563 - val_acc: 0.8516\n",
      "Epoch 26/100\n",
      "5359/5359 [==============================] - 3s 488us/sample - loss: 0.3323 - acc: 0.8612 - val_loss: 0.3560 - val_acc: 0.8573\n",
      "Epoch 27/100\n",
      "5359/5359 [==============================] - 3s 503us/sample - loss: 0.3322 - acc: 0.8615 - val_loss: 0.3557 - val_acc: 0.8527\n",
      "Epoch 28/100\n",
      "5359/5359 [==============================] - 3s 479us/sample - loss: 0.3321 - acc: 0.8619 - val_loss: 0.3569 - val_acc: 0.8535\n",
      "Epoch 29/100\n",
      "5359/5359 [==============================] - 3s 506us/sample - loss: 0.3310 - acc: 0.8625 - val_loss: 0.3550 - val_acc: 0.8531\n",
      "Epoch 30/100\n",
      "5359/5359 [==============================] - 3s 483us/sample - loss: 0.3312 - acc: 0.8636 - val_loss: 0.3573 - val_acc: 0.8550\n",
      "Epoch 31/100\n",
      "5359/5359 [==============================] - 3s 503us/sample - loss: 0.3310 - acc: 0.8621 - val_loss: 0.3550 - val_acc: 0.8527\n",
      "Epoch 32/100\n",
      "5359/5359 [==============================] - 3s 489us/sample - loss: 0.3310 - acc: 0.8612 - val_loss: 0.3544 - val_acc: 0.8531\n",
      "Epoch 33/100\n",
      "5359/5359 [==============================] - 3s 508us/sample - loss: 0.3303 - acc: 0.8604 - val_loss: 0.3563 - val_acc: 0.8527\n",
      "Epoch 34/100\n",
      "5359/5359 [==============================] - 3s 525us/sample - loss: 0.3308 - acc: 0.8638 - val_loss: 0.3554 - val_acc: 0.8519\n",
      "Epoch 35/100\n",
      "5359/5359 [==============================] - 3s 569us/sample - loss: 0.3304 - acc: 0.8617 - val_loss: 0.3547 - val_acc: 0.8527\n",
      "Epoch 36/100\n",
      "5359/5359 [==============================] - 3s 489us/sample - loss: 0.3298 - acc: 0.8621 - val_loss: 0.3562 - val_acc: 0.8531\n",
      "Epoch 37/100\n",
      "5359/5359 [==============================] - 3s 517us/sample - loss: 0.3301 - acc: 0.8619 - val_loss: 0.3557 - val_acc: 0.8550\n",
      "Epoch 38/100\n",
      "5359/5359 [==============================] - 3s 484us/sample - loss: 0.3294 - acc: 0.8636 - val_loss: 0.3589 - val_acc: 0.8550\n",
      "Epoch 39/100\n",
      "5359/5359 [==============================] - 3s 509us/sample - loss: 0.3292 - acc: 0.8628 - val_loss: 0.3582 - val_acc: 0.8519\n",
      "Epoch 40/100\n",
      "5359/5359 [==============================] - 3s 481us/sample - loss: 0.3298 - acc: 0.8625 - val_loss: 0.3546 - val_acc: 0.8535\n",
      "Epoch 41/100\n",
      "5359/5359 [==============================] - 3s 509us/sample - loss: 0.3289 - acc: 0.8628 - val_loss: 0.3547 - val_acc: 0.8523\n",
      "Epoch 42/100\n",
      "5359/5359 [==============================] - 3s 490us/sample - loss: 0.3294 - acc: 0.8628 - val_loss: 0.3552 - val_acc: 0.8519\n",
      "Epoch 43/100\n",
      "5359/5359 [==============================] - 3s 506us/sample - loss: 0.3289 - acc: 0.8608 - val_loss: 0.3545 - val_acc: 0.8535\n",
      "Epoch 44/100\n",
      "5359/5359 [==============================] - 3s 489us/sample - loss: 0.3291 - acc: 0.8632 - val_loss: 0.3542 - val_acc: 0.8531\n",
      "Epoch 45/100\n",
      "5359/5359 [==============================] - 3s 522us/sample - loss: 0.3284 - acc: 0.8636 - val_loss: 0.3565 - val_acc: 0.8531\n",
      "Epoch 46/100\n",
      "5359/5359 [==============================] - 3s 502us/sample - loss: 0.3287 - acc: 0.8614 - val_loss: 0.3554 - val_acc: 0.8538\n",
      "Epoch 47/100\n",
      "5359/5359 [==============================] - 3s 502us/sample - loss: 0.3286 - acc: 0.8602 - val_loss: 0.3550 - val_acc: 0.8538\n",
      "Epoch 48/100\n",
      "5359/5359 [==============================] - 3s 469us/sample - loss: 0.3288 - acc: 0.8619 - val_loss: 0.3546 - val_acc: 0.8561\n",
      "Epoch 49/100\n",
      "5359/5359 [==============================] - 3s 494us/sample - loss: 0.3288 - acc: 0.8604 - val_loss: 0.3553 - val_acc: 0.8546\n",
      "Epoch 50/100\n",
      "5359/5359 [==============================] - 2s 423us/sample - loss: 0.3287 - acc: 0.8621 - val_loss: 0.3551 - val_acc: 0.8535\n",
      "Epoch 51/100\n",
      "5359/5359 [==============================] - 2s 465us/sample - loss: 0.3282 - acc: 0.8604 - val_loss: 0.3546 - val_acc: 0.8531\n",
      "Epoch 52/100\n",
      "5359/5359 [==============================] - 2s 443us/sample - loss: 0.3280 - acc: 0.8604 - val_loss: 0.3551 - val_acc: 0.8523\n",
      "Epoch 53/100\n",
      "5359/5359 [==============================] - 3s 469us/sample - loss: 0.3285 - acc: 0.8608 - val_loss: 0.3555 - val_acc: 0.8550\n",
      "Epoch 54/100\n",
      "5359/5359 [==============================] - 3s 479us/sample - loss: 0.3275 - acc: 0.8632 - val_loss: 0.3591 - val_acc: 0.8535\n",
      "Epoch 55/100\n",
      "5359/5359 [==============================] - 2s 465us/sample - loss: 0.3281 - acc: 0.8621 - val_loss: 0.3544 - val_acc: 0.8550\n",
      "Epoch 56/100\n",
      "5359/5359 [==============================] - 3s 501us/sample - loss: 0.3278 - acc: 0.8615 - val_loss: 0.3541 - val_acc: 0.8538\n",
      "Epoch 57/100\n",
      "5359/5359 [==============================] - 2s 444us/sample - loss: 0.3274 - acc: 0.8634 - val_loss: 0.3561 - val_acc: 0.8516\n",
      "Epoch 58/100\n",
      "5359/5359 [==============================] - 3s 494us/sample - loss: 0.3278 - acc: 0.8632 - val_loss: 0.3560 - val_acc: 0.8542\n",
      "Epoch 59/100\n",
      "5359/5359 [==============================] - 2s 462us/sample - loss: 0.3276 - acc: 0.8606 - val_loss: 0.3542 - val_acc: 0.8561\n",
      "Epoch 60/100\n",
      "5359/5359 [==============================] - 2s 447us/sample - loss: 0.3277 - acc: 0.8617 - val_loss: 0.3542 - val_acc: 0.8538\n",
      "Epoch 61/100\n",
      "5359/5359 [==============================] - 3s 488us/sample - loss: 0.3268 - acc: 0.8617 - val_loss: 0.3582 - val_acc: 0.8512\n",
      "Epoch 62/100\n",
      "5359/5359 [==============================] - 2s 455us/sample - loss: 0.3267 - acc: 0.8617 - val_loss: 0.3564 - val_acc: 0.8542\n",
      "Epoch 63/100\n",
      "5359/5359 [==============================] - 3s 482us/sample - loss: 0.3270 - acc: 0.8627 - val_loss: 0.3567 - val_acc: 0.8519\n",
      "Epoch 64/100\n",
      "5359/5359 [==============================] - 2s 460us/sample - loss: 0.3269 - acc: 0.8621 - val_loss: 0.3558 - val_acc: 0.8523\n",
      "Epoch 65/100\n",
      "5359/5359 [==============================] - 3s 495us/sample - loss: 0.3266 - acc: 0.8623 - val_loss: 0.3560 - val_acc: 0.8554\n",
      "Epoch 66/100\n",
      "5359/5359 [==============================] - 2s 461us/sample - loss: 0.3267 - acc: 0.8628 - val_loss: 0.3550 - val_acc: 0.8531\n",
      "Epoch 67/100\n",
      "5359/5359 [==============================] - 3s 489us/sample - loss: 0.3264 - acc: 0.8630 - val_loss: 0.3545 - val_acc: 0.8523\n",
      "Epoch 68/100\n",
      "5359/5359 [==============================] - 2s 453us/sample - loss: 0.3272 - acc: 0.8630 - val_loss: 0.3545 - val_acc: 0.8527\n",
      "Epoch 69/100\n",
      "5359/5359 [==============================] - 3s 468us/sample - loss: 0.3266 - acc: 0.8651 - val_loss: 0.3562 - val_acc: 0.8542\n",
      "Epoch 70/100\n",
      "5359/5359 [==============================] - 3s 471us/sample - loss: 0.3266 - acc: 0.8627 - val_loss: 0.3554 - val_acc: 0.8561\n",
      "Epoch 71/100\n",
      "5359/5359 [==============================] - 2s 457us/sample - loss: 0.3262 - acc: 0.8606 - val_loss: 0.3551 - val_acc: 0.8546\n",
      "Epoch 72/100\n",
      "5359/5359 [==============================] - 3s 485us/sample - loss: 0.3259 - acc: 0.8621 - val_loss: 0.3582 - val_acc: 0.8554\n",
      "Epoch 73/100\n",
      "5359/5359 [==============================] - 2s 456us/sample - loss: 0.3261 - acc: 0.8668 - val_loss: 0.3569 - val_acc: 0.8554\n",
      "Epoch 74/100\n",
      "5359/5359 [==============================] - 3s 492us/sample - loss: 0.3258 - acc: 0.8643 - val_loss: 0.3547 - val_acc: 0.8557\n",
      "Epoch 75/100\n",
      "5359/5359 [==============================] - 3s 478us/sample - loss: 0.3257 - acc: 0.8632 - val_loss: 0.3560 - val_acc: 0.8535\n",
      "Epoch 76/100\n",
      "5359/5359 [==============================] - 3s 516us/sample - loss: 0.3256 - acc: 0.8628 - val_loss: 0.3567 - val_acc: 0.8512\n",
      "Epoch 77/100\n",
      "5359/5359 [==============================] - 3s 480us/sample - loss: 0.3257 - acc: 0.8627 - val_loss: 0.3557 - val_acc: 0.8523\n",
      "Epoch 78/100\n",
      "5359/5359 [==============================] - 3s 513us/sample - loss: 0.3253 - acc: 0.8651 - val_loss: 0.3589 - val_acc: 0.8538\n",
      "Epoch 79/100\n",
      "5359/5359 [==============================] - 3s 479us/sample - loss: 0.3249 - acc: 0.8647 - val_loss: 0.3557 - val_acc: 0.8546\n",
      "Epoch 80/100\n",
      "5359/5359 [==============================] - 3s 513us/sample - loss: 0.3254 - acc: 0.8625 - val_loss: 0.3602 - val_acc: 0.8535\n",
      "Epoch 81/100\n",
      "5359/5359 [==============================] - 2s 451us/sample - loss: 0.3259 - acc: 0.8632 - val_loss: 0.3555 - val_acc: 0.8546\n",
      "Epoch 82/100\n",
      "5359/5359 [==============================] - 3s 512us/sample - loss: 0.3254 - acc: 0.8645 - val_loss: 0.3562 - val_acc: 0.8531\n",
      "Epoch 83/100\n",
      "5359/5359 [==============================] - 2s 454us/sample - loss: 0.3250 - acc: 0.8642 - val_loss: 0.3559 - val_acc: 0.8512\n",
      "Epoch 84/100\n",
      "5359/5359 [==============================] - 3s 488us/sample - loss: 0.3254 - acc: 0.8642 - val_loss: 0.3567 - val_acc: 0.8531\n",
      "Epoch 85/100\n",
      "5359/5359 [==============================] - 3s 469us/sample - loss: 0.3254 - acc: 0.8638 - val_loss: 0.3585 - val_acc: 0.8546\n",
      "Epoch 86/100\n",
      "5359/5359 [==============================] - 3s 482us/sample - loss: 0.3248 - acc: 0.8632 - val_loss: 0.3551 - val_acc: 0.8542\n",
      "Epoch 87/100\n",
      "5359/5359 [==============================] - 3s 496us/sample - loss: 0.3256 - acc: 0.8634 - val_loss: 0.3563 - val_acc: 0.8531\n",
      "Epoch 88/100\n",
      "5359/5359 [==============================] - 3s 487us/sample - loss: 0.3251 - acc: 0.8658 - val_loss: 0.3566 - val_acc: 0.8546\n",
      "Epoch 89/100\n",
      "5359/5359 [==============================] - 3s 526us/sample - loss: 0.3247 - acc: 0.8649 - val_loss: 0.3568 - val_acc: 0.8538\n",
      "Epoch 90/100\n",
      "5359/5359 [==============================] - 3s 488us/sample - loss: 0.3246 - acc: 0.8647 - val_loss: 0.3572 - val_acc: 0.8557\n",
      "Epoch 91/100\n",
      "5359/5359 [==============================] - 3s 527us/sample - loss: 0.3251 - acc: 0.8653 - val_loss: 0.3558 - val_acc: 0.8527\n",
      "Epoch 92/100\n",
      "5359/5359 [==============================] - 3s 517us/sample - loss: 0.3249 - acc: 0.8628 - val_loss: 0.3608 - val_acc: 0.8504\n",
      "Epoch 93/100\n",
      "5359/5359 [==============================] - 3s 510us/sample - loss: 0.3249 - acc: 0.8617 - val_loss: 0.3559 - val_acc: 0.8535\n",
      "Epoch 94/100\n",
      "5359/5359 [==============================] - 3s 548us/sample - loss: 0.3250 - acc: 0.8649 - val_loss: 0.3594 - val_acc: 0.8557\n",
      "Epoch 95/100\n",
      "5359/5359 [==============================] - 3s 515us/sample - loss: 0.3247 - acc: 0.8651 - val_loss: 0.3575 - val_acc: 0.8554\n",
      "Epoch 96/100\n",
      "5359/5359 [==============================] - 3s 490us/sample - loss: 0.3248 - acc: 0.8642 - val_loss: 0.3562 - val_acc: 0.8550\n",
      "Epoch 97/100\n",
      "5359/5359 [==============================] - 3s 536us/sample - loss: 0.3241 - acc: 0.8645 - val_loss: 0.3597 - val_acc: 0.8523\n",
      "Epoch 98/100\n",
      "5359/5359 [==============================] - 3s 488us/sample - loss: 0.3246 - acc: 0.8651 - val_loss: 0.3583 - val_acc: 0.8546\n",
      "Epoch 99/100\n",
      "5359/5359 [==============================] - 3s 505us/sample - loss: 0.3242 - acc: 0.8643 - val_loss: 0.3559 - val_acc: 0.8580\n",
      "Epoch 100/100\n",
      "5359/5359 [==============================] - 3s 494us/sample - loss: 0.3245 - acc: 0.8634 - val_loss: 0.3574 - val_acc: 0.8519\n"
     ]
    }
   ],
   "source": [
    "model_history = classifier.fit(x_train, y_train, batch_size=10, validation_split=0.33, epochs=100)"
   ]
  },
  {
   "cell_type": "code",
   "execution_count": 30,
   "metadata": {},
   "outputs": [],
   "source": [
    "y_pred = classifier.predict(x_test)"
   ]
  },
  {
   "cell_type": "code",
   "execution_count": 31,
   "metadata": {},
   "outputs": [
    {
     "data": {
      "text/plain": [
       "array([[0.3023846 ],\n",
       "       [0.21035534],\n",
       "       [0.06119663],\n",
       "       ...,\n",
       "       [0.1887222 ],\n",
       "       [0.11101559],\n",
       "       [0.21307531]], dtype=float32)"
      ]
     },
     "execution_count": 31,
     "metadata": {},
     "output_type": "execute_result"
    }
   ],
   "source": [
    "y_pred"
   ]
  },
  {
   "cell_type": "code",
   "execution_count": 33,
   "metadata": {},
   "outputs": [
    {
     "data": {
      "text/plain": [
       "array([[False],\n",
       "       [False],\n",
       "       [False],\n",
       "       ...,\n",
       "       [False],\n",
       "       [False],\n",
       "       [False]])"
      ]
     },
     "execution_count": 33,
     "metadata": {},
     "output_type": "execute_result"
    }
   ],
   "source": [
    "y_pred = (y_pred>0.5)\n",
    "y_pred"
   ]
  },
  {
   "cell_type": "code",
   "execution_count": 34,
   "metadata": {},
   "outputs": [
    {
     "data": {
      "text/plain": [
       "array([[1523,   72],\n",
       "       [ 208,  197]], dtype=int64)"
      ]
     },
     "execution_count": 34,
     "metadata": {},
     "output_type": "execute_result"
    }
   ],
   "source": [
    "from sklearn.metrics import confusion_matrix\n",
    "cm = confusion_matrix(y_test, y_pred)\n",
    "cm"
   ]
  },
  {
   "cell_type": "code",
   "execution_count": 35,
   "metadata": {},
   "outputs": [],
   "source": [
    "from sklearn.metrics import accuracy_score\n",
    "score = accuracy_score(y_test, y_pred)\n"
   ]
  },
  {
   "cell_type": "code",
   "execution_count": 36,
   "metadata": {},
   "outputs": [
    {
     "data": {
      "text/plain": [
       "86.0"
      ]
     },
     "execution_count": 36,
     "metadata": {},
     "output_type": "execute_result"
    }
   ],
   "source": [
    "score*100"
   ]
  }
 ],
 "metadata": {
  "kernelspec": {
   "display_name": "Python 3",
   "language": "python",
   "name": "python3"
  },
  "language_info": {
   "codemirror_mode": {
    "name": "ipython",
    "version": 3
   },
   "file_extension": ".py",
   "mimetype": "text/x-python",
   "name": "python",
   "nbconvert_exporter": "python",
   "pygments_lexer": "ipython3",
   "version": "3.7.6"
  }
 },
 "nbformat": 4,
 "nbformat_minor": 4
}
